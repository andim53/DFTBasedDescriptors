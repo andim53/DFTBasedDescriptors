{
 "cells": [
  {
   "cell_type": "code",
   "execution_count": 1,
   "id": "443cfc3a-fc00-44d6-9c51-cde451dc4575",
   "metadata": {},
   "outputs": [],
   "source": [
    "from ase import Atoms\n",
    "import os\n",
    "import string\n",
    "import random\n",
    "from pymatgen.io.cif import CifParser\n",
    "from urllib.request import urlopen\n",
    "import pandas as pd\n",
    "import matplotlib.pyplot as plt\n",
    "import pandas as pd\n",
    "import numpy as np\n",
    "from ase.build import bulk, niggli_reduce\n",
    "from gpaw import GPAW, PW, FermiDirac\n",
    "from ase.io import read\n",
    "import pandas as pd\n",
    "\n",
    "import glob"
   ]
  },
  {
   "cell_type": "markdown",
   "id": "b480ab6a-1b68-4be5-aded-710e5ee02302",
   "metadata": {},
   "source": [
    "# Importing the gpaw pseudo"
   ]
  },
  {
   "cell_type": "code",
   "execution_count": 5,
   "id": "7bc36580-2df9-4dcc-a7c7-8e6cd45f0442",
   "metadata": {},
   "outputs": [],
   "source": [
    "folder = './'\n",
    "g = glob.glob(\n",
    "    folder + 'gpaw-setups-0.9.20000/*.PBE.gz')"
   ]
  },
  {
   "cell_type": "markdown",
   "id": "f9111665-18fd-40ca-9b9d-36715111ba4d",
   "metadata": {},
   "source": [
    "# Checking the available atoms on gpaw"
   ]
  },
  {
   "cell_type": "code",
   "execution_count": 6,
   "id": "a4f05364-6371-4a9d-a81a-7ccc840d32d1",
   "metadata": {},
   "outputs": [
    {
     "name": "stdout",
     "output_type": "stream",
     "text": [
      "['Cd', 'Ga', 'Ar', 'Br', 'Y', 'Ta', 'Cl', 'Pt', 'Ag', 'Mn']\n"
     ]
    }
   ],
   "source": [
    "available_atoms = []\n",
    "for i in g:\n",
    "    available_atoms += [i.replace(\n",
    "        folder + 'gpaw-setups-0.9.20000/', '').split('.')[0]]\n",
    "    \n",
    "print(available_atoms[:10])"
   ]
  },
  {
   "cell_type": "markdown",
   "id": "6fba20c8-992c-4098-9725-c42ac9f6d4f1",
   "metadata": {},
   "source": [
    "# Function to check if the atoms is in pseudo"
   ]
  },
  {
   "cell_type": "code",
   "execution_count": 7,
   "id": "4ea2cb6e-0d74-4969-85e1-b7cf05db2835",
   "metadata": {},
   "outputs": [],
   "source": [
    "def fix_psuedo(a):\n",
    "    for i in range(len(a)):\n",
    "        if not a[i].symbol in available_atoms:\n",
    "            print(a[i].symbol, 'is not available in GPAW, replacing it with Y')\n",
    "            a[i].symbol = 'Y'"
   ]
  },
  {
   "cell_type": "markdown",
   "id": "36c4513f-fae0-4099-b10d-1b518543e64b",
   "metadata": {},
   "source": [
    "# Importing database"
   ]
  },
  {
   "cell_type": "code",
   "execution_count": 9,
   "id": "c904dcba-c69d-4eb5-bcae-a12cb60e1496",
   "metadata": {},
   "outputs": [
    {
     "data": {
      "text/html": [
       "<div>\n",
       "<style scoped>\n",
       "    .dataframe tbody tr th:only-of-type {\n",
       "        vertical-align: middle;\n",
       "    }\n",
       "\n",
       "    .dataframe tbody tr th {\n",
       "        vertical-align: top;\n",
       "    }\n",
       "\n",
       "    .dataframe thead th {\n",
       "        text-align: right;\n",
       "    }\n",
       "</style>\n",
       "<table border=\"1\" class=\"dataframe\">\n",
       "  <thead>\n",
       "    <tr style=\"text-align: right;\">\n",
       "      <th></th>\n",
       "      <th>formula_pretty</th>\n",
       "      <th>formula_anonymous</th>\n",
       "      <th>chemsys</th>\n",
       "      <th>material_id</th>\n",
       "      <th>structure</th>\n",
       "      <th>formation_energy_per_atom</th>\n",
       "      <th>is_metal</th>\n",
       "      <th>e_total</th>\n",
       "      <th>e_ionic</th>\n",
       "      <th>e_electronic</th>\n",
       "      <th>n</th>\n",
       "      <th>fields_not_requested</th>\n",
       "      <th>structure_cif</th>\n",
       "    </tr>\n",
       "  </thead>\n",
       "  <tbody>\n",
       "    <tr>\n",
       "      <th>0</th>\n",
       "      <td>YCrB4</td>\n",
       "      <td>ABC4</td>\n",
       "      <td>B-Cr-Y</td>\n",
       "      <td>mp-20450</td>\n",
       "      <td>Full Formula (Y4 Cr4 B16)\\nReduced Formula: YC...</td>\n",
       "      <td>-0.653251</td>\n",
       "      <td>False</td>\n",
       "      <td>47.348925</td>\n",
       "      <td>5.890129</td>\n",
       "      <td>41.458796</td>\n",
       "      <td>6.438851</td>\n",
       "      <td>['builder_meta', 'nsites', 'elements', 'neleme...</td>\n",
       "      <td># generated using pymatgen\\ndata_YCrB4\\n_symme...</td>\n",
       "    </tr>\n",
       "    <tr>\n",
       "      <th>1</th>\n",
       "      <td>LiCaGaF6</td>\n",
       "      <td>ABCD6</td>\n",
       "      <td>Ca-F-Ga-Li</td>\n",
       "      <td>mp-12829</td>\n",
       "      <td>Full Formula (Li2 Ca2 Ga2 F12)\\nReduced Formul...</td>\n",
       "      <td>-3.463849</td>\n",
       "      <td>False</td>\n",
       "      <td>6.967909</td>\n",
       "      <td>4.827025</td>\n",
       "      <td>2.140884</td>\n",
       "      <td>1.463176</td>\n",
       "      <td>['builder_meta', 'nsites', 'elements', 'neleme...</td>\n",
       "      <td># generated using pymatgen\\ndata_LiCaGaF6\\n_sy...</td>\n",
       "    </tr>\n",
       "    <tr>\n",
       "      <th>2</th>\n",
       "      <td>Na2GeO3</td>\n",
       "      <td>AB2C3</td>\n",
       "      <td>Ge-Na-O</td>\n",
       "      <td>mp-5784</td>\n",
       "      <td>Full Formula (Na4 Ge2 O6)\\nReduced Formula: Na...</td>\n",
       "      <td>-2.140016</td>\n",
       "      <td>False</td>\n",
       "      <td>11.718332</td>\n",
       "      <td>8.805022</td>\n",
       "      <td>2.913310</td>\n",
       "      <td>1.706842</td>\n",
       "      <td>['builder_meta', 'nsites', 'elements', 'neleme...</td>\n",
       "      <td># generated using pymatgen\\ndata_Na2GeO3\\n_sym...</td>\n",
       "    </tr>\n",
       "    <tr>\n",
       "      <th>3</th>\n",
       "      <td>CsMgCl3</td>\n",
       "      <td>ABC3</td>\n",
       "      <td>Cl-Cs-Mg</td>\n",
       "      <td>mp-23004</td>\n",
       "      <td>Full Formula (Cs2 Mg2 Cl6)\\nReduced Formula: C...</td>\n",
       "      <td>-2.322267</td>\n",
       "      <td>False</td>\n",
       "      <td>10.490509</td>\n",
       "      <td>7.869904</td>\n",
       "      <td>2.620605</td>\n",
       "      <td>1.618828</td>\n",
       "      <td>['builder_meta', 'nsites', 'elements', 'neleme...</td>\n",
       "      <td># generated using pymatgen\\ndata_CsMgCl3\\n_sym...</td>\n",
       "    </tr>\n",
       "    <tr>\n",
       "      <th>4</th>\n",
       "      <td>Li2VSiO5</td>\n",
       "      <td>ABC2D5</td>\n",
       "      <td>Li-O-Si-V</td>\n",
       "      <td>mp-18860</td>\n",
       "      <td>Full Formula (Li8 V4 Si4 O20)\\nReduced Formula...</td>\n",
       "      <td>-2.766672</td>\n",
       "      <td>False</td>\n",
       "      <td>16.969145</td>\n",
       "      <td>13.458970</td>\n",
       "      <td>3.510175</td>\n",
       "      <td>1.873546</td>\n",
       "      <td>['builder_meta', 'nsites', 'elements', 'neleme...</td>\n",
       "      <td># generated using pymatgen\\ndata_Li2VSiO5\\n_sy...</td>\n",
       "    </tr>\n",
       "  </tbody>\n",
       "</table>\n",
       "</div>"
      ],
      "text/plain": [
       "  formula_pretty formula_anonymous     chemsys material_id  \\\n",
       "0          YCrB4              ABC4      B-Cr-Y    mp-20450   \n",
       "1       LiCaGaF6             ABCD6  Ca-F-Ga-Li    mp-12829   \n",
       "2        Na2GeO3             AB2C3     Ge-Na-O     mp-5784   \n",
       "3        CsMgCl3              ABC3    Cl-Cs-Mg    mp-23004   \n",
       "4       Li2VSiO5            ABC2D5   Li-O-Si-V    mp-18860   \n",
       "\n",
       "                                           structure  \\\n",
       "0  Full Formula (Y4 Cr4 B16)\\nReduced Formula: YC...   \n",
       "1  Full Formula (Li2 Ca2 Ga2 F12)\\nReduced Formul...   \n",
       "2  Full Formula (Na4 Ge2 O6)\\nReduced Formula: Na...   \n",
       "3  Full Formula (Cs2 Mg2 Cl6)\\nReduced Formula: C...   \n",
       "4  Full Formula (Li8 V4 Si4 O20)\\nReduced Formula...   \n",
       "\n",
       "   formation_energy_per_atom  is_metal    e_total    e_ionic  e_electronic  \\\n",
       "0                  -0.653251     False  47.348925   5.890129     41.458796   \n",
       "1                  -3.463849     False   6.967909   4.827025      2.140884   \n",
       "2                  -2.140016     False  11.718332   8.805022      2.913310   \n",
       "3                  -2.322267     False  10.490509   7.869904      2.620605   \n",
       "4                  -2.766672     False  16.969145  13.458970      3.510175   \n",
       "\n",
       "          n                               fields_not_requested  \\\n",
       "0  6.438851  ['builder_meta', 'nsites', 'elements', 'neleme...   \n",
       "1  1.463176  ['builder_meta', 'nsites', 'elements', 'neleme...   \n",
       "2  1.706842  ['builder_meta', 'nsites', 'elements', 'neleme...   \n",
       "3  1.618828  ['builder_meta', 'nsites', 'elements', 'neleme...   \n",
       "4  1.873546  ['builder_meta', 'nsites', 'elements', 'neleme...   \n",
       "\n",
       "                                       structure_cif  \n",
       "0  # generated using pymatgen\\ndata_YCrB4\\n_symme...  \n",
       "1  # generated using pymatgen\\ndata_LiCaGaF6\\n_sy...  \n",
       "2  # generated using pymatgen\\ndata_Na2GeO3\\n_sym...  \n",
       "3  # generated using pymatgen\\ndata_CsMgCl3\\n_sym...  \n",
       "4  # generated using pymatgen\\ndata_Li2VSiO5\\n_sy...  "
      ]
     },
     "execution_count": 9,
     "metadata": {},
     "output_type": "execute_result"
    }
   ],
   "source": [
    "# Specify the path to the Excel file\n",
    "excel_file_path = 'DataBaseV2.xlsx'\n",
    "\n",
    "# Read the Excel file into a pandas DataFrame\n",
    "df = pd.read_excel(excel_file_path)\n",
    "\n",
    "df.head()"
   ]
  },
  {
   "cell_type": "code",
   "execution_count": 10,
   "id": "1823bc52-f190-41db-9928-274e08ec6303",
   "metadata": {},
   "outputs": [
    {
     "data": {
      "text/plain": [
       "(7290, 13)"
      ]
     },
     "execution_count": 10,
     "metadata": {},
     "output_type": "execute_result"
    }
   ],
   "source": [
    "df.shape"
   ]
  },
  {
   "cell_type": "markdown",
   "id": "81441819-e8bf-443d-af67-f501ee64ddcc",
   "metadata": {},
   "source": [
    "# Using DFT based descriptors"
   ]
  },
  {
   "cell_type": "code",
   "execution_count": null,
   "id": "d815c262-e61e-4625-a000-6915d53eab37",
   "metadata": {},
   "outputs": [],
   "source": [
    "maxatom = 1000 # to limit the number of atoms\n",
    "\n",
    "for num, cif in enumerate(np.array(df['structure_cif'])[:maxatom]):\n",
    "    output = {}\n",
    "    # print(f\"Material {num}/{len(np.array(df['structure_cif']))}\")\n",
    "    print(f\"Material {num+1}/{len(np.array(df['structure_cif'])[:maxatom])}\")\n",
    "    print(\"-\"*50)\n",
    "    try:\n",
    "        parser = CifParser.from_string(cif)\n",
    "        structure = parser.get_structures()\n",
    "        structure = structure[0]\n",
    "        atoms = Atoms(pbc=True, cell=structure.lattice.matrix,\n",
    "                    positions=structure.cart_coords, numbers=structure.atomic_numbers)\n",
    "\n",
    "        calculation_type = 'bulk'\n",
    "\n",
    "        if calculation_type == 'bulk':\n",
    "            niggli_reduce(atoms)\n",
    "\n",
    "        # Perform any necessary modifications to the structure\n",
    "        fix_psuedo(atoms)\n",
    "\n",
    "        # Perform the GPAW calculation\n",
    "        calc = GPAW(mode='lcao',\n",
    "                    xc='PBE',\n",
    "                    convergence={'density': 1.e-6},\n",
    "                    txt='output.txt')\n",
    "\n",
    "        calc.calculate(atoms)\n",
    "        H = calc.hamiltonian\n",
    "        ef = calc.get_fermi_level()\n",
    "        num_atoms = atoms.get_global_number_of_atoms()\n",
    "\n",
    "\n",
    "        # Update the output dictionary with the results\n",
    "        output['e_band'] = H.e_band\n",
    "        output['e_coulomb'] = H.e_coulomb\n",
    "        output['e_entropy'] = H.e_entropy\n",
    "        output['e_external'] = H.e_external\n",
    "        output['e_kinetic'] = H.e_kinetic\n",
    "        output['e_kinetic0'] = H.e_kinetic0\n",
    "        output['e_xc'] = H.e_xc\n",
    "        output['e_total_free'] = H.e_total_free\n",
    "        output['ef'] = ef\n",
    "        \n",
    "\n",
    "        output['e_band/num_atoms'] = H.e_band/num_atoms\n",
    "        output['e_coulomb/num_atoms'] = H.e_coulomb/num_atoms\n",
    "        output['e_entropy/num_atoms'] = H.e_entropy/num_atoms\n",
    "        output['e_external/num_atoms'] = H.e_external/num_atoms\n",
    "        output['e_kinetic/num_atoms'] = H.e_kinetic/num_atoms\n",
    "        output['e_kinetic0/num_atoms'] = H.e_kinetic0/num_atoms\n",
    "        output['e_xc/num_atoms'] = H.e_xc/num_atoms\n",
    "        output['e_total_free/num_atoms'] = H.e_total_free/num_atoms\n",
    "\n",
    "        output_list.append(output)\n",
    "        \n",
    "    except Exception as e:\n",
    "            print('Problem in GPAW')\n",
    "            print(f\"index {num} is skipped\")\n",
    "            skiped_index.append(num)\n",
    "            print(f\"Number of skipped material: {len(skiped_index)}\")\n",
    "            print(\"-\"*50)\n",
    "            \n",
    "\n",
    "df = df.drop(skiped_index)\n",
    "df_cif = pd.DataFrame(output_list)\n",
    "df = pd.concat([df,df_cif], axis=1)\n",
    "df = df.dropna()\n",
    "\n",
    "# Specify the path where you want to save the Excel file\n",
    "excel_file_path = 'output.xlsx'\n",
    "\n",
    "# Export the DataFrame to an Excel file\n",
    "df.to_excel(excel_file_path, index=False)\n",
    "\n",
    "print(f'DataFrame has been exported to {excel_file_path}')"
   ]
  }
 ],
 "metadata": {
  "kernelspec": {
   "display_name": "gpaw",
   "language": "python",
   "name": "gpaw"
  },
  "language_info": {
   "codemirror_mode": {
    "name": "ipython",
    "version": 3
   },
   "file_extension": ".py",
   "mimetype": "text/x-python",
   "name": "python",
   "nbconvert_exporter": "python",
   "pygments_lexer": "ipython3",
   "version": "3.8.17"
  }
 },
 "nbformat": 4,
 "nbformat_minor": 5
}
