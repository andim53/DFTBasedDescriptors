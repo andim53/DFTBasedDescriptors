{
 "cells": [
  {
   "cell_type": "code",
   "execution_count": 22,
   "id": "190a49f7-26e7-48ce-8e7d-2ebeaa0288c8",
   "metadata": {
    "collapsed": true,
    "jupyter": {
     "outputs_hidden": true
    },
    "tags": []
   },
   "outputs": [
    {
     "name": "stderr",
     "output_type": "stream",
     "text": [
      "2023-10-22 05:52:40.806335: I tensorflow/core/util/port.cc:110] oneDNN custom operations are on. You may see slightly different numerical results due to floating-point round-off errors from different computation orders. To turn them off, set the environment variable `TF_ENABLE_ONEDNN_OPTS=0`.\n",
      "2023-10-22 05:52:40.809280: I tensorflow/tsl/cuda/cudart_stub.cc:28] Could not find cuda drivers on your machine, GPU will not be used.\n",
      "2023-10-22 05:52:40.868835: I tensorflow/tsl/cuda/cudart_stub.cc:28] Could not find cuda drivers on your machine, GPU will not be used.\n",
      "2023-10-22 05:52:40.870273: I tensorflow/core/platform/cpu_feature_guard.cc:182] This TensorFlow binary is optimized to use available CPU instructions in performance-critical operations.\n",
      "To enable the following instructions: AVX2 AVX512F AVX512_VNNI FMA, in other operations, rebuild TensorFlow with the appropriate compiler flags.\n",
      "2023-10-22 05:52:41.939869: W tensorflow/compiler/tf2tensorrt/utils/py_utils.cc:38] TF-TRT Warning: Could not find TensorRT\n"
     ]
    }
   ],
   "source": [
    "import pandas as pd\n",
    "import numpy as np\n",
    "import tensorflow as tf"
   ]
  },
  {
   "cell_type": "markdown",
   "id": "4e1982a7-53d9-4e3f-bf08-e2a442932d25",
   "metadata": {},
   "source": [
    "# Importing data"
   ]
  },
  {
   "cell_type": "code",
   "execution_count": 4,
   "id": "59f35e09-4519-4011-94f2-0369bab11cd8",
   "metadata": {},
   "outputs": [
    {
     "data": {
      "text/html": [
       "<div>\n",
       "<style scoped>\n",
       "    .dataframe tbody tr th:only-of-type {\n",
       "        vertical-align: middle;\n",
       "    }\n",
       "\n",
       "    .dataframe tbody tr th {\n",
       "        vertical-align: top;\n",
       "    }\n",
       "\n",
       "    .dataframe thead th {\n",
       "        text-align: right;\n",
       "    }\n",
       "</style>\n",
       "<table border=\"1\" class=\"dataframe\">\n",
       "  <thead>\n",
       "    <tr style=\"text-align: right;\">\n",
       "      <th></th>\n",
       "      <th>formula_pretty</th>\n",
       "      <th>formula_anonymous</th>\n",
       "      <th>chemsys</th>\n",
       "      <th>material_id</th>\n",
       "      <th>structure</th>\n",
       "      <th>formation_energy_per_atom</th>\n",
       "      <th>is_metal</th>\n",
       "      <th>e_total</th>\n",
       "      <th>e_ionic</th>\n",
       "      <th>e_electronic</th>\n",
       "      <th>...</th>\n",
       "      <th>e_total_free</th>\n",
       "      <th>ef</th>\n",
       "      <th>e_band/num_atoms</th>\n",
       "      <th>e_coulomb/num_atoms</th>\n",
       "      <th>e_entropy/num_atoms</th>\n",
       "      <th>e_external/num_atoms</th>\n",
       "      <th>e_kinetic/num_atoms</th>\n",
       "      <th>e_kinetic0/num_atoms</th>\n",
       "      <th>e_xc/num_atoms</th>\n",
       "      <th>e_total_free/num_atoms</th>\n",
       "    </tr>\n",
       "  </thead>\n",
       "  <tbody>\n",
       "    <tr>\n",
       "      <th>0</th>\n",
       "      <td>YCrB4</td>\n",
       "      <td>ABC4</td>\n",
       "      <td>B-Cr-Y</td>\n",
       "      <td>mp-20450</td>\n",
       "      <td>Full Formula (Y4 Cr4 B16)\\nReduced Formula: YC...</td>\n",
       "      <td>-0.653251</td>\n",
       "      <td>False</td>\n",
       "      <td>47.348925</td>\n",
       "      <td>5.890129</td>\n",
       "      <td>41.458796</td>\n",
       "      <td>...</td>\n",
       "      <td>-5.858164</td>\n",
       "      <td>11.163444</td>\n",
       "      <td>0.024319</td>\n",
       "      <td>-0.188020</td>\n",
       "      <td>-2.767267e-05</td>\n",
       "      <td>0</td>\n",
       "      <td>0.221036</td>\n",
       "      <td>0.196718</td>\n",
       "      <td>-0.279148</td>\n",
       "      <td>-0.244090</td>\n",
       "    </tr>\n",
       "    <tr>\n",
       "      <th>1</th>\n",
       "      <td>LiCaGaF6</td>\n",
       "      <td>ABCD6</td>\n",
       "      <td>Ca-F-Ga-Li</td>\n",
       "      <td>mp-12829</td>\n",
       "      <td>Full Formula (Li2 Ca2 Ga2 F12)\\nReduced Formul...</td>\n",
       "      <td>-3.463849</td>\n",
       "      <td>False</td>\n",
       "      <td>6.967909</td>\n",
       "      <td>4.827025</td>\n",
       "      <td>2.140884</td>\n",
       "      <td>...</td>\n",
       "      <td>-2.640814</td>\n",
       "      <td>3.665931</td>\n",
       "      <td>-1.747124</td>\n",
       "      <td>-0.837262</td>\n",
       "      <td>-1.270295e-12</td>\n",
       "      <td>0</td>\n",
       "      <td>0.958238</td>\n",
       "      <td>2.705362</td>\n",
       "      <td>-0.282488</td>\n",
       "      <td>-0.146712</td>\n",
       "    </tr>\n",
       "    <tr>\n",
       "      <th>2</th>\n",
       "      <td>Na2GeO3</td>\n",
       "      <td>AB2C3</td>\n",
       "      <td>Ge-Na-O</td>\n",
       "      <td>mp-5784</td>\n",
       "      <td>Full Formula (Na4 Ge2 O6)\\nReduced Formula: Na...</td>\n",
       "      <td>-2.140016</td>\n",
       "      <td>False</td>\n",
       "      <td>11.718332</td>\n",
       "      <td>8.805022</td>\n",
       "      <td>2.913310</td>\n",
       "      <td>...</td>\n",
       "      <td>-1.935350</td>\n",
       "      <td>3.721439</td>\n",
       "      <td>-1.917246</td>\n",
       "      <td>-0.664702</td>\n",
       "      <td>-5.033265e-08</td>\n",
       "      <td>0</td>\n",
       "      <td>0.767800</td>\n",
       "      <td>2.685047</td>\n",
       "      <td>-0.275572</td>\n",
       "      <td>-0.161279</td>\n",
       "    </tr>\n",
       "    <tr>\n",
       "      <th>3</th>\n",
       "      <td>CsMgCl3</td>\n",
       "      <td>ABC3</td>\n",
       "      <td>Cl-Cs-Mg</td>\n",
       "      <td>mp-23004</td>\n",
       "      <td>Full Formula (Cs2 Mg2 Cl6)\\nReduced Formula: C...</td>\n",
       "      <td>-2.322267</td>\n",
       "      <td>False</td>\n",
       "      <td>10.490509</td>\n",
       "      <td>7.869904</td>\n",
       "      <td>2.620605</td>\n",
       "      <td>...</td>\n",
       "      <td>-0.992013</td>\n",
       "      <td>4.640916</td>\n",
       "      <td>-3.683055</td>\n",
       "      <td>-0.640347</td>\n",
       "      <td>-2.584534e-12</td>\n",
       "      <td>0</td>\n",
       "      <td>0.733330</td>\n",
       "      <td>4.416384</td>\n",
       "      <td>-0.197104</td>\n",
       "      <td>-0.099201</td>\n",
       "    </tr>\n",
       "    <tr>\n",
       "      <th>4</th>\n",
       "      <td>Li2VSiO5</td>\n",
       "      <td>ABC2D5</td>\n",
       "      <td>Li-O-Si-V</td>\n",
       "      <td>mp-18860</td>\n",
       "      <td>Full Formula (Li8 V4 Si4 O20)\\nReduced Formula...</td>\n",
       "      <td>-2.766672</td>\n",
       "      <td>False</td>\n",
       "      <td>16.969145</td>\n",
       "      <td>13.458970</td>\n",
       "      <td>3.510175</td>\n",
       "      <td>...</td>\n",
       "      <td>-3.878814</td>\n",
       "      <td>6.460653</td>\n",
       "      <td>-1.758132</td>\n",
       "      <td>-0.449097</td>\n",
       "      <td>-5.588154e-04</td>\n",
       "      <td>0</td>\n",
       "      <td>0.499584</td>\n",
       "      <td>2.257716</td>\n",
       "      <td>-0.272984</td>\n",
       "      <td>-0.215490</td>\n",
       "    </tr>\n",
       "  </tbody>\n",
       "</table>\n",
       "<p>5 rows × 30 columns</p>\n",
       "</div>"
      ],
      "text/plain": [
       "  formula_pretty formula_anonymous     chemsys material_id  \\\n",
       "0          YCrB4              ABC4      B-Cr-Y    mp-20450   \n",
       "1       LiCaGaF6             ABCD6  Ca-F-Ga-Li    mp-12829   \n",
       "2        Na2GeO3             AB2C3     Ge-Na-O     mp-5784   \n",
       "3        CsMgCl3              ABC3    Cl-Cs-Mg    mp-23004   \n",
       "4       Li2VSiO5            ABC2D5   Li-O-Si-V    mp-18860   \n",
       "\n",
       "                                           structure  \\\n",
       "0  Full Formula (Y4 Cr4 B16)\\nReduced Formula: YC...   \n",
       "1  Full Formula (Li2 Ca2 Ga2 F12)\\nReduced Formul...   \n",
       "2  Full Formula (Na4 Ge2 O6)\\nReduced Formula: Na...   \n",
       "3  Full Formula (Cs2 Mg2 Cl6)\\nReduced Formula: C...   \n",
       "4  Full Formula (Li8 V4 Si4 O20)\\nReduced Formula...   \n",
       "\n",
       "   formation_energy_per_atom  is_metal    e_total    e_ionic  e_electronic  \\\n",
       "0                  -0.653251     False  47.348925   5.890129     41.458796   \n",
       "1                  -3.463849     False   6.967909   4.827025      2.140884   \n",
       "2                  -2.140016     False  11.718332   8.805022      2.913310   \n",
       "3                  -2.322267     False  10.490509   7.869904      2.620605   \n",
       "4                  -2.766672     False  16.969145  13.458970      3.510175   \n",
       "\n",
       "   ...  e_total_free         ef e_band/num_atoms  e_coulomb/num_atoms  \\\n",
       "0  ...     -5.858164  11.163444         0.024319            -0.188020   \n",
       "1  ...     -2.640814   3.665931        -1.747124            -0.837262   \n",
       "2  ...     -1.935350   3.721439        -1.917246            -0.664702   \n",
       "3  ...     -0.992013   4.640916        -3.683055            -0.640347   \n",
       "4  ...     -3.878814   6.460653        -1.758132            -0.449097   \n",
       "\n",
       "   e_entropy/num_atoms  e_external/num_atoms  e_kinetic/num_atoms  \\\n",
       "0        -2.767267e-05                     0             0.221036   \n",
       "1        -1.270295e-12                     0             0.958238   \n",
       "2        -5.033265e-08                     0             0.767800   \n",
       "3        -2.584534e-12                     0             0.733330   \n",
       "4        -5.588154e-04                     0             0.499584   \n",
       "\n",
       "   e_kinetic0/num_atoms  e_xc/num_atoms  e_total_free/num_atoms  \n",
       "0              0.196718       -0.279148               -0.244090  \n",
       "1              2.705362       -0.282488               -0.146712  \n",
       "2              2.685047       -0.275572               -0.161279  \n",
       "3              4.416384       -0.197104               -0.099201  \n",
       "4              2.257716       -0.272984               -0.215490  \n",
       "\n",
       "[5 rows x 30 columns]"
      ]
     },
     "execution_count": 4,
     "metadata": {},
     "output_type": "execute_result"
    }
   ],
   "source": [
    "df = pd.read_excel(\"./output1k.xlsx\")\n",
    "df.head()"
   ]
  },
  {
   "cell_type": "code",
   "execution_count": 5,
   "id": "834cc293-eff8-4548-ab30-cfd462ec492e",
   "metadata": {},
   "outputs": [
    {
     "data": {
      "text/plain": [
       "(996, 30)"
      ]
     },
     "execution_count": 5,
     "metadata": {},
     "output_type": "execute_result"
    }
   ],
   "source": [
    "df.shape"
   ]
  },
  {
   "cell_type": "code",
   "execution_count": 6,
   "id": "680d5dd4-7a4b-4fc7-9e2d-36afec92d4f6",
   "metadata": {},
   "outputs": [
    {
     "data": {
      "text/plain": [
       "formula_pretty                object\n",
       "formula_anonymous             object\n",
       "chemsys                       object\n",
       "material_id                   object\n",
       "structure                     object\n",
       "formation_energy_per_atom    float64\n",
       "is_metal                        bool\n",
       "e_total                      float64\n",
       "e_ionic                      float64\n",
       "e_electronic                 float64\n",
       "n                            float64\n",
       "fields_not_requested          object\n",
       "structure_cif                 object\n",
       "e_band                       float64\n",
       "e_coulomb                    float64\n",
       "e_entropy                    float64\n",
       "e_external                     int64\n",
       "e_kinetic                    float64\n",
       "e_kinetic0                   float64\n",
       "e_xc                         float64\n",
       "e_total_free                 float64\n",
       "ef                           float64\n",
       "e_band/num_atoms             float64\n",
       "e_coulomb/num_atoms          float64\n",
       "e_entropy/num_atoms          float64\n",
       "e_external/num_atoms           int64\n",
       "e_kinetic/num_atoms          float64\n",
       "e_kinetic0/num_atoms         float64\n",
       "e_xc/num_atoms               float64\n",
       "e_total_free/num_atoms       float64\n",
       "dtype: object"
      ]
     },
     "execution_count": 6,
     "metadata": {},
     "output_type": "execute_result"
    }
   ],
   "source": [
    "df.dtypes"
   ]
  },
  {
   "cell_type": "markdown",
   "id": "c975d6e9-7865-4703-9ee9-e90d6b015411",
   "metadata": {},
   "source": [
    "# Preparing training data"
   ]
  },
  {
   "cell_type": "code",
   "execution_count": 8,
   "id": "7341233d-d989-4df2-a326-bb2eadf57b80",
   "metadata": {},
   "outputs": [
    {
     "name": "stdout",
     "output_type": "stream",
     "text": [
      "key=0, val='formula_pretty'\n",
      "key=1, val='formula_anonymous'\n",
      "key=2, val='chemsys'\n",
      "key=3, val='material_id'\n",
      "key=4, val='structure'\n",
      "key=5, val='formation_energy_per_atom'\n",
      "key=6, val='is_metal'\n",
      "key=7, val='e_total'\n",
      "key=8, val='e_ionic'\n",
      "key=9, val='e_electronic'\n",
      "key=10, val='n'\n",
      "key=11, val='fields_not_requested'\n",
      "key=12, val='structure_cif'\n",
      "key=13, val='e_band'\n",
      "key=14, val='e_coulomb'\n",
      "key=15, val='e_entropy'\n",
      "key=16, val='e_external'\n",
      "key=17, val='e_kinetic'\n",
      "key=18, val='e_kinetic0'\n",
      "key=19, val='e_xc'\n",
      "key=20, val='e_total_free'\n",
      "key=21, val='ef'\n",
      "key=22, val='e_band/num_atoms'\n",
      "key=23, val='e_coulomb/num_atoms'\n",
      "key=24, val='e_entropy/num_atoms'\n",
      "key=25, val='e_external/num_atoms'\n",
      "key=26, val='e_kinetic/num_atoms'\n",
      "key=27, val='e_kinetic0/num_atoms'\n",
      "key=28, val='e_xc/num_atoms'\n",
      "key=29, val='e_total_free/num_atoms'\n"
     ]
    }
   ],
   "source": [
    "for key, val in enumerate(df.columns):\n",
    "    print(f\"{key=}, {val=}\")"
   ]
  },
  {
   "cell_type": "code",
   "execution_count": 19,
   "id": "b4d9a7f9-c5f9-41bd-a1d3-ebdf07f8963a",
   "metadata": {},
   "outputs": [],
   "source": [
    "feat = np.array(df.columns[13:22])\n",
    "feat_norm = np.array(df.columns[21:])"
   ]
  },
  {
   "cell_type": "code",
   "execution_count": 20,
   "id": "896d8a51-730d-4452-bf27-0062cf447154",
   "metadata": {},
   "outputs": [
    {
     "name": "stdout",
     "output_type": "stream",
     "text": [
      "Train shape: (797, 30)\n",
      "Test shape: (199, 30)\n"
     ]
    }
   ],
   "source": [
    "dataset = df.copy()\n",
    "dataset = dataset.dropna()\n",
    "train = dataset.sample(frac=0.8, random_state=0)\n",
    "test = dataset.drop(train.index)\n",
    "\n",
    "print(\"Train shape:\",train.shape)\n",
    "print(\"Test shape:\",test.shape)"
   ]
  },
  {
   "cell_type": "code",
   "execution_count": 21,
   "id": "c2ba6218-d7d8-462c-a24f-1646ed74cc0a",
   "metadata": {},
   "outputs": [],
   "source": [
    "# Label\n",
    "Y_train = train.pop(\"formation_energy_per_atom\")\n",
    "Y_test = test.pop(\"formation_energy_per_atom\")\n",
    "\n",
    "# Input\n",
    "X_train = train[feat]\n",
    "X_test = test[feat]\n",
    "\n",
    "X_train_norm = train[feat_norm]\n",
    "X_test_norm = test[feat_norm]"
   ]
  },
  {
   "cell_type": "markdown",
   "id": "201d81f6-e59c-4277-80fe-a2e504393566",
   "metadata": {},
   "source": [
    "# Traning model"
   ]
  },
  {
   "cell_type": "markdown",
   "id": "3b8fd0be-626c-48a9-a9aa-f07a6301c8da",
   "metadata": {},
   "source": [
    "## No hidden layer"
   ]
  },
  {
   "cell_type": "code",
   "execution_count": 24,
   "id": "6c06f4b8-8cf2-407b-912f-3e124d5cb960",
   "metadata": {},
   "outputs": [
    {
     "name": "stdout",
     "output_type": "stream",
     "text": [
      "Epoch 1/10\n",
      "20/20 [==============================] - 1s 25ms/step - loss: 1.8822 - val_loss: 1.8699\n",
      "Epoch 2/10\n",
      "20/20 [==============================] - 0s 5ms/step - loss: 1.8605 - val_loss: 1.8474\n",
      "Epoch 3/10\n",
      "20/20 [==============================] - 0s 5ms/step - loss: 1.8392 - val_loss: 1.8250\n",
      "Epoch 4/10\n",
      "20/20 [==============================] - 0s 5ms/step - loss: 1.8185 - val_loss: 1.8033\n",
      "Epoch 5/10\n",
      "20/20 [==============================] - 0s 4ms/step - loss: 1.7983 - val_loss: 1.7812\n",
      "Epoch 6/10\n",
      "20/20 [==============================] - 0s 4ms/step - loss: 1.7781 - val_loss: 1.7602\n",
      "Epoch 7/10\n",
      "20/20 [==============================] - 0s 3ms/step - loss: 1.7576 - val_loss: 1.7378\n",
      "Epoch 8/10\n",
      "20/20 [==============================] - 0s 4ms/step - loss: 1.7376 - val_loss: 1.7170\n",
      "Epoch 9/10\n",
      "20/20 [==============================] - 0s 3ms/step - loss: 1.7179 - val_loss: 1.6948\n",
      "Epoch 10/10\n",
      "20/20 [==============================] - 0s 4ms/step - loss: 1.6979 - val_loss: 1.6743\n"
     ]
    }
   ],
   "source": [
    "normalizer = tf.keras.layers.Normalization(axis=-1)\n",
    "normalizer.adapt(np.array(X_train))\n",
    "\n",
    "# Define the input layer with the appropriate input shape\n",
    "input_layer = tf.keras.layers.Input(shape=(len(feat),))\n",
    "\n",
    "model = tf.keras.Sequential([\n",
    "        input_layer,\n",
    "        normalizer,\n",
    "        tf.keras.layers.Dense(1)\n",
    "    ])\n",
    "\n",
    "model.compile(loss='mean_absolute_error',\n",
    "              optimizer=tf.keras.optimizers.Adam(learning_rate=0.001))\n",
    "\n",
    "history = model.fit(\n",
    "    np.array(X_train),\n",
    "    np.array(Y_train),\n",
    "    epochs=10,\n",
    "    verbose=1,\n",
    "    validation_split=0.2,\n",
    "    callbacks=[tf.keras.callbacks.EarlyStopping(patience=3)],\n",
    "    batch_size=32\n",
    ")\n",
    "\n",
    "loss = history.history['val_loss'][-1]"
   ]
  },
  {
   "cell_type": "markdown",
   "id": "1a103411-3719-4305-bcaa-a6d6a8f34bb6",
   "metadata": {},
   "source": [
    "# One hidden layer"
   ]
  },
  {
   "cell_type": "code",
   "execution_count": null,
   "id": "635ca07a-59d3-4c54-8939-8a2d7fb807b1",
   "metadata": {},
   "outputs": [],
   "source": [
    "neurons = [8, 16, 32, 64, 128, 256, 512]\n",
    "\n",
    "results = {}\n",
    "input_layer = tf.keras.layers.Input(shape=(len(feat),))"
   ]
  },
  {
   "cell_type": "code",
   "execution_count": null,
   "id": "efd6852c-cceb-4868-a6df-925ee72f10e6",
   "metadata": {},
   "outputs": [],
   "source": [
    "# Define a list of different numbers of neurons and hidden layers\n",
    "neurons = [8, 16, 32, 64, 128, 256]\n",
    "hid_layers = [0, 1, 2, 3, 4, 5, 6]\n",
    "\n",
    "# Create an empty dictionary to store the results\n",
    "results = {}\n",
    "\n",
    "# Create a function to build and train the model with given parameters\n",
    "def build_and_train_model(num_neurons, num_hidden_layers):\n",
    "    # Define the input layer with the appropriate input shape\n",
    "    input_layer = tf.keras.layers.Input(shape=(len(feat_col),))\n",
    "\n",
    "    # Initialize a list to store the hidden layers\n",
    "    hidden_layers = []\n",
    "\n",
    "    # Create the hidden layers\n",
    "    for _ in range(num_hidden_layers):\n",
    "        hidden_layers.append(tf.keras.layers.Dense(num_neurons, activation='relu'))\n",
    "\n",
    "    # Define the model\n",
    "    model = tf.keras.Sequential([input_layer] + hidden_layers + [tf.keras.layers.Dense(1)])\n",
    "\n",
    "    # Compile the model\n",
    "    model.compile(loss='mean_absolute_error', optimizer=tf.keras.optimizers.Adam(learning_rate=0.001))\n",
    "\n",
    "    # Train the model\n",
    "    history = model.fit(\n",
    "        np.array(train_dataset),\n",
    "        np.array(train_labels),\n",
    "        epochs=10,\n",
    "        verbose=0,\n",
    "        validation_split=0.2,\n",
    "        callbacks=[tf.keras.callbacks.EarlyStopping(patience=3)],\n",
    "        batch_size=32\n",
    "    )\n",
    "\n",
    "    # Extract the final validation loss\n",
    "    loss = history.history['val_loss'][-1]\n",
    "\n",
    "    return loss\n",
    "\n",
    "# Iterate through the number of hidden layers first\n",
    "for num_hidden_layers in hid_layers:\n",
    "    # Create a dictionary for the results of this number of hidden layers\n",
    "    results[num_hidden_layers] = {}\n",
    "    \n",
    "    # Iterate through the different numbers of neurons\n",
    "    for num_neurons in neurons:\n",
    "        loss = build_and_train_model(num_neurons, num_hidden_layers)\n",
    "        results[num_hidden_layers][num_neurons] = loss"
   ]
  }
 ],
 "metadata": {
  "kernelspec": {
   "display_name": "MachineLearning",
   "language": "python",
   "name": "machinelearning"
  },
  "language_info": {
   "codemirror_mode": {
    "name": "ipython",
    "version": 3
   },
   "file_extension": ".py",
   "mimetype": "text/x-python",
   "name": "python",
   "nbconvert_exporter": "python",
   "pygments_lexer": "ipython3",
   "version": "3.8.17"
  }
 },
 "nbformat": 4,
 "nbformat_minor": 5
}
